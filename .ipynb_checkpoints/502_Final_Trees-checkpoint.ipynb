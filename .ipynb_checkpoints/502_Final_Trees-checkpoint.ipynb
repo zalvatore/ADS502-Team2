{
 "cells": [
  {
   "cell_type": "code",
   "execution_count": 1,
   "id": "ec5a8ab5",
   "metadata": {},
   "outputs": [],
   "source": [
    "#Import libraries\n",
    "import pandas as pd\n",
    "import seaborn as sns\n",
    "import matplotlib.pyplot as plt\n",
    "import numpy as np\n",
    "import statsmodels.api as sm\n",
    "from scipy import stats\n",
    "import time\n",
    "from sklearn.tree import DecisionTreeClassifier\n",
    "from sklearn.tree import plot_tree\n",
    "from sklearn.tree import export_graphviz"
   ]
  },
  {
   "cell_type": "code",
   "execution_count": null,
   "id": "68a86193",
   "metadata": {},
   "outputs": [],
   "source": [
    "#Load Data in Dataframe and verify load time\n",
    "start_time = time.time()\n",
    "train_data = pd.read_csv('Train25.csv')\n",
    "#train_data = pd.read_csv('train_data.csv')\n",
    "\n",
    "print(\"--- %s seconds ---\" % (time.time() - start_time))\n",
    "train_data"
   ]
  },
  {
   "cell_type": "code",
   "execution_count": null,
   "id": "7336484a",
   "metadata": {},
   "outputs": [],
   "source": [
    "#Load Labels Data in Dataframe and verify load time\n",
    "start_time = time.time()\n",
    "train_labels = pd.read_csv('train_labels.csv')\n",
    "print(\"--- %s seconds ---\" % (time.time() - start_time))\n",
    "train_labels"
   ]
  },
  {
   "cell_type": "code",
   "execution_count": null,
   "id": "81cca345",
   "metadata": {},
   "outputs": [],
   "source": [
    "#train_data = train_data.join(train_labels, on='customer_ID')\n",
    "train_data = pd.merge(train_data, train_labels, on='customer_ID')\n",
    "train_data"
   ]
  },
  {
   "cell_type": "code",
   "execution_count": null,
   "id": "b43bf096",
   "metadata": {},
   "outputs": [],
   "source": [
    "train_data = train_data[train_data['target'].notna()]\n",
    "train_data"
   ]
  },
  {
   "cell_type": "code",
   "execution_count": null,
   "id": "1b1e1409",
   "metadata": {},
   "outputs": [],
   "source": [
    "y = pd.DataFrame(train_data[['target']])\n",
    "y.head()"
   ]
  },
  {
   "cell_type": "code",
   "execution_count": null,
   "id": "d06f0347",
   "metadata": {},
   "outputs": [],
   "source": [
    "#Data types\n",
    "train_data.info()"
   ]
  },
  {
   "cell_type": "code",
   "execution_count": null,
   "id": "65468396",
   "metadata": {},
   "outputs": [],
   "source": [
    "#function for extracting objects\n",
    "def getObjectCol(df):\n",
    "    DType = ['object']\n",
    "    df = df.select_dtypes(include=DType)\n",
    "        \n",
    "    return df"
   ]
  },
  {
   "cell_type": "code",
   "execution_count": null,
   "id": "47474c40",
   "metadata": {},
   "outputs": [],
   "source": [
    "#function for extracting numerical\n",
    "def getNumericCol(df):\n",
    "    DType = ['float64','int64']\n",
    "    df = df.select_dtypes(include=DType)\n",
    "        \n",
    "    return df"
   ]
  },
  {
   "cell_type": "code",
   "execution_count": null,
   "id": "741071d4",
   "metadata": {},
   "outputs": [],
   "source": [
    "#Segregate ID Columns\n",
    "train_data_ID = train_data[['Unnamed: 0','customer_ID']]\n",
    "train_data_ID.head()"
   ]
  },
  {
   "cell_type": "code",
   "execution_count": null,
   "id": "bdbcc340",
   "metadata": {},
   "outputs": [],
   "source": [
    "#Segregate Catagorical\n",
    "train_data_Cat = train_data[['B_30', 'B_38', 'D_114', 'D_116', 'D_117', 'D_120', 'D_126', 'D_63', 'D_64', 'D_66', 'D_68']]\n",
    "train_data_Cat.head()"
   ]
  },
  {
   "cell_type": "code",
   "execution_count": null,
   "id": "06f13bc0",
   "metadata": {},
   "outputs": [],
   "source": [
    "#Drop Id and Cat Columns\n",
    "train_data2 = train_data.drop(columns=['Unnamed: 0'])\n",
    "train_data2 = train_data2.drop(columns=['customer_ID'])\n",
    "train_data2 = train_data2.drop(columns=['B_30', 'B_38', 'D_114', 'D_116', 'D_117', 'D_120', 'D_126', 'D_63', 'D_64', 'D_66', 'D_68'])"
   ]
  },
  {
   "cell_type": "code",
   "execution_count": null,
   "id": "8efeb052",
   "metadata": {},
   "outputs": [],
   "source": [
    "#Show object col\n",
    "train_data2_objects = getObjectCol(train_data2)\n",
    "train_data2_objects.head()"
   ]
  },
  {
   "cell_type": "code",
   "execution_count": null,
   "id": "5e1cfd3f",
   "metadata": {},
   "outputs": [],
   "source": [
    "#Change S_2 to DateTime\n",
    "train_data2_objects['S_2'] = \\\n",
    "pd.to_datetime(train_data2_objects['S_2'])\n",
    "train_data2_objects.info()"
   ]
  },
  {
   "cell_type": "code",
   "execution_count": null,
   "id": "8604117f",
   "metadata": {},
   "outputs": [],
   "source": [
    "#Unique values on D_63\n",
    "train_data_Cat['D_63'].unique()"
   ]
  },
  {
   "cell_type": "code",
   "execution_count": null,
   "id": "a1c034bb",
   "metadata": {},
   "outputs": [],
   "source": [
    "#Unique values on D_64\n",
    "train_data_Cat['D_64'].unique()"
   ]
  },
  {
   "cell_type": "code",
   "execution_count": null,
   "id": "018f41eb",
   "metadata": {},
   "outputs": [],
   "source": [
    "#show percentage of null values\n",
    "def nullVals(df):\n",
    "    return round(df.isnull().sum() / df.shape[0] *100,2)"
   ]
  },
  {
   "cell_type": "code",
   "execution_count": null,
   "id": "b3ec306b",
   "metadata": {},
   "outputs": [],
   "source": [
    "#Checking percantage of null values in objects\n",
    "nullVals(train_data_Cat)"
   ]
  },
  {
   "cell_type": "code",
   "execution_count": null,
   "id": "2b33f380",
   "metadata": {},
   "outputs": [],
   "source": [
    "#Show Numeric col\n",
    "train_data_numeric = getNumericCol(train_data)\n",
    "train_data_numeric"
   ]
  },
  {
   "cell_type": "code",
   "execution_count": null,
   "id": "55193ad5",
   "metadata": {},
   "outputs": [],
   "source": [
    "#Checking percantage of null values in numeric\n",
    "numericNulls = nullVals(train_data_numeric)\n",
    "numericNulls"
   ]
  },
  {
   "cell_type": "code",
   "execution_count": null,
   "id": "d121ad69",
   "metadata": {},
   "outputs": [],
   "source": [
    "#nulss above limit\n",
    "pctNulls = 5\n",
    "numericNulls = numericNulls[numericNulls > pctNulls]\n",
    "\n",
    "#To DF\n",
    "numericNullsDf = numericNulls.to_frame(name = 'numericNulls')\n",
    "numericNullsDf = numericNullsDf.sort_values('numericNulls',\\\n",
    "                                            ascending=False)\n",
    "\n",
    "# figure for missing values\n",
    "sns.set_theme(style=\"darkgrid\")\n",
    "ax = plt.subplots(figsize=(20,10), sharex=True)\n",
    "\n",
    "ax = sns.barplot(x=numericNullsDf.index,\\\n",
    "                 y=numericNullsDf.numericNulls,\\\n",
    "                 data=numericNullsDf)\n",
    "\n",
    "ax.set(title='Null Values in Numeric Data')\n",
    "ax.set(xlabel=\"Attribute\", ylabel='% of Missing Values')\n",
    "\n",
    "plt.xticks(rotation=45)\n",
    "plt.show()"
   ]
  },
  {
   "cell_type": "code",
   "execution_count": null,
   "id": "49c65ba6",
   "metadata": {},
   "outputs": [],
   "source": [
    "print('Number of columns with nulls above ' + \\\n",
    "      str(pctNulls) + '% is -> ' + str(numericNulls.shape[0]))"
   ]
  },
  {
   "cell_type": "code",
   "execution_count": null,
   "id": "3bc796a3",
   "metadata": {},
   "outputs": [],
   "source": [
    "#Limit of nulls aceptable\n",
    "x = 20\n",
    "numericNullsDf_aboveXpct = numericNullsDf[numericNullsDf > x].dropna()\n",
    "cols2Drop = numericNullsDf_aboveXpct.index\n",
    "cols2Drop"
   ]
  },
  {
   "cell_type": "code",
   "execution_count": null,
   "id": "a6b932af",
   "metadata": {},
   "outputs": [],
   "source": [
    "#Drop variables with to many nulls\n",
    "train_data_numeric_clean = train_data_numeric.drop(columns= cols2Drop)\n",
    "train_data_numeric_clean"
   ]
  },
  {
   "cell_type": "code",
   "execution_count": null,
   "id": "0b4225e1",
   "metadata": {},
   "outputs": [],
   "source": [
    "#Correlation Matrix\n",
    "corr = train_data_numeric_clean.corr().abs()"
   ]
  },
  {
   "cell_type": "code",
   "execution_count": null,
   "id": "cc83332c",
   "metadata": {},
   "outputs": [],
   "source": [
    "#Top Correlations\n",
    "topCorr = corr.unstack().sort_values(ascending=False)\n",
    "\n",
    "topCorrDF = topCorr.to_frame()\n",
    "topCorrDF.reset_index(inplace=True)\n",
    "topCorrDF['Keep'] = topCorrDF['level_0'] != topCorrDF['level_1'] \n",
    "topCorrDF = topCorrDF[topCorrDF['Keep']]\n",
    "topCorrDF"
   ]
  },
  {
   "cell_type": "code",
   "execution_count": null,
   "id": "08685ae4",
   "metadata": {
    "scrolled": true
   },
   "outputs": [],
   "source": [
    "#High Corrlated values\n",
    "topCorrDFHC = topCorrDF[topCorrDF[0] > 0.85]\n",
    "topCorrDFHC"
   ]
  },
  {
   "cell_type": "code",
   "execution_count": null,
   "id": "8cdd3fbb",
   "metadata": {
    "scrolled": true
   },
   "outputs": [],
   "source": [
    "# figure for corrlations\n",
    "sns.set_theme(style=\"darkgrid\")\n",
    "ax = plt.subplots(figsize=(20,10), sharex=True)\n",
    "\n",
    "ax = sns.barplot(x=topCorrDFHC.index,\\\n",
    "                 y=topCorrDFHC[0],\\\n",
    "                 data=topCorrDFHC)\n",
    "\n",
    "ax.set(title='Correlation')\n",
    "ax.set(xlabel=\"Attribute\", ylabel='Corr')\n",
    "\n",
    "plt.xticks(rotation=45)\n",
    "plt.show()"
   ]
  },
  {
   "cell_type": "code",
   "execution_count": null,
   "id": "3ec0df10",
   "metadata": {},
   "outputs": [],
   "source": [
    "#Column to identify which attributes to remove\n",
    "topCorrDFHC['Running'] = np.arange(len(topCorrDFHC))\n",
    "topCorrDFHC"
   ]
  },
  {
   "cell_type": "code",
   "execution_count": null,
   "id": "36275dee",
   "metadata": {},
   "outputs": [],
   "source": [
    "#Remove pair for high correaltions\n",
    "topCorrDFHC = topCorrDFHC[topCorrDFHC.index%2==0]\n",
    "topCorrDFHC"
   ]
  },
  {
   "cell_type": "code",
   "execution_count": null,
   "id": "0e921336",
   "metadata": {},
   "outputs": [],
   "source": [
    "#Drop variables with high correlation \n",
    "train_data_numeric_clean_HC = \\\n",
    "train_data_numeric_clean.drop(columns= topCorrDFHC.level_0)\n",
    "train_data_numeric_clean_HC"
   ]
  },
  {
   "cell_type": "code",
   "execution_count": null,
   "id": "29a2d75a",
   "metadata": {},
   "outputs": [],
   "source": [
    "Delinquency = train_data_numeric_clean_HC.filter(regex='D')\n",
    "Delinquency.head()"
   ]
  },
  {
   "cell_type": "code",
   "execution_count": null,
   "id": "da5d73df",
   "metadata": {},
   "outputs": [],
   "source": [
    "Risk = train_data_numeric_clean_HC.filter(regex='R')\n",
    "Risk.head()"
   ]
  },
  {
   "cell_type": "code",
   "execution_count": null,
   "id": "7beda6ae",
   "metadata": {},
   "outputs": [],
   "source": [
    "Spend = train_data_numeric_clean_HC.filter(regex='S')\n",
    "Spend.head()"
   ]
  },
  {
   "cell_type": "code",
   "execution_count": null,
   "id": "98aa4652",
   "metadata": {},
   "outputs": [],
   "source": [
    "Payment = train_data_numeric_clean_HC.filter(regex='P')\n",
    "Payment.head()"
   ]
  },
  {
   "cell_type": "code",
   "execution_count": null,
   "id": "04c20b48",
   "metadata": {},
   "outputs": [],
   "source": [
    "Balance = train_data_numeric_clean_HC.filter(regex='B')\n",
    "Balance.head()"
   ]
  },
  {
   "cell_type": "code",
   "execution_count": null,
   "id": "5b37e37a",
   "metadata": {
    "scrolled": true
   },
   "outputs": [],
   "source": [
    "Delinquency.describe()"
   ]
  },
  {
   "cell_type": "code",
   "execution_count": null,
   "id": "dcf3368a",
   "metadata": {},
   "outputs": [],
   "source": [
    "X = train_data_numeric_clean_HC"
   ]
  },
  {
   "cell_type": "code",
   "execution_count": null,
   "id": "7cc85f6f",
   "metadata": {},
   "outputs": [],
   "source": [
    "#Drop target\n",
    "X = X.drop(columns=['target'])"
   ]
  },
  {
   "cell_type": "code",
   "execution_count": null,
   "id": "6c835941",
   "metadata": {},
   "outputs": [],
   "source": [
    "#c5.0 Model"
   ]
  },
  {
   "cell_type": "code",
   "execution_count": null,
   "id": "01ab2ae9",
   "metadata": {},
   "outputs": [],
   "source": [
    "amexmodel=DecisionTreeClassifier(criterion='entropy', max_depth=6, max_leaf_nodes=6)"
   ]
  },
  {
   "cell_type": "code",
   "execution_count": null,
   "id": "10e0851a",
   "metadata": {},
   "outputs": [],
   "source": [
    "amexmodel"
   ]
  },
  {
   "cell_type": "code",
   "execution_count": null,
   "id": "6d1e302d",
   "metadata": {},
   "outputs": [],
   "source": [
    "X.isna()"
   ]
  },
  {
   "cell_type": "code",
   "execution_count": null,
   "id": "5f5fcd60",
   "metadata": {
    "scrolled": true
   },
   "outputs": [],
   "source": [
    "X.isnull().sum()"
   ]
  },
  {
   "cell_type": "code",
   "execution_count": null,
   "id": "9de9485e",
   "metadata": {},
   "outputs": [],
   "source": [
    "X = X.fillna(X.mean())"
   ]
  },
  {
   "cell_type": "code",
   "execution_count": null,
   "id": "8c43f12d",
   "metadata": {},
   "outputs": [],
   "source": [
    "X.isnull().sum()"
   ]
  },
  {
   "cell_type": "code",
   "execution_count": null,
   "id": "423beda4",
   "metadata": {},
   "outputs": [],
   "source": [
    "amexmodel.fit(X,y)"
   ]
  },
  {
   "cell_type": "code",
   "execution_count": null,
   "id": "00acc9c8",
   "metadata": {},
   "outputs": [],
   "source": [
    "amexmodel01 = str(amexmodel)"
   ]
  },
  {
   "cell_type": "code",
   "execution_count": null,
   "id": "f733b325",
   "metadata": {},
   "outputs": [],
   "source": [
    "y_names = [\"Default\", \"NonDefault\"]"
   ]
  },
  {
   "cell_type": "code",
   "execution_count": null,
   "id": "4228a0e2",
   "metadata": {
    "scrolled": true
   },
   "outputs": [],
   "source": [
    "export_graphviz(amexmodel, out_file = \"C:/Users/Kenzi/OneDrive/Desktop/ADS_502_final/amexmodel01.dot\")"
   ]
  },
  {
   "cell_type": "code",
   "execution_count": null,
   "id": "b261756d",
   "metadata": {},
   "outputs": [],
   "source": [
    "amexc5predict = amexmodel.predict(X)"
   ]
  },
  {
   "cell_type": "code",
   "execution_count": null,
   "id": "004a976b",
   "metadata": {},
   "outputs": [],
   "source": [
    "amexc5predict"
   ]
  },
  {
   "cell_type": "code",
   "execution_count": null,
   "id": "0eeaa81b",
   "metadata": {},
   "outputs": [],
   "source": [
    "from sklearn.metrics import confusion_matrix\n",
    "\n",
    "c5cm = confusion_matrix(y, amexc5predict)\n",
    "c5cm"
   ]
  },
  {
   "cell_type": "code",
   "execution_count": null,
   "id": "c8b76978",
   "metadata": {},
   "outputs": [],
   "source": [
    "c5TN = c5cm[0][0]\n",
    "c5FP = c5cm[0][1]\n",
    "c5FN = c5cm[1][0]\n",
    "c5TP = c5cm[1][1]\n",
    "print('TN: ', c5TN,\n",
    "      '\\nFP: ', c5FP,\n",
    "      '\\nFN: ', c5FN,\n",
    "      '\\nTP: ', c5TP,)"
   ]
  },
  {
   "cell_type": "code",
   "execution_count": null,
   "id": "3ea3c45d",
   "metadata": {},
   "outputs": [],
   "source": [
    "c5_Accuracy = ((c5TN + c5TP)/(c5TN + c5TP + c5FP + c5FN))\n",
    "c5_Accuracy"
   ]
  },
  {
   "cell_type": "code",
   "execution_count": null,
   "id": "08e47a1d",
   "metadata": {},
   "outputs": [],
   "source": [
    "c5_Error_Rate = 1-(c5_Accuracy)\n",
    "c5_Error_Rate"
   ]
  },
  {
   "cell_type": "code",
   "execution_count": null,
   "id": "c476f566",
   "metadata": {},
   "outputs": [],
   "source": [
    "c5_sensitivty = (c5TP/(c5FP + c5TN))\n",
    "c5_sensitivty"
   ]
  },
  {
   "cell_type": "code",
   "execution_count": null,
   "id": "8d77ee2c",
   "metadata": {},
   "outputs": [],
   "source": [
    "c5TAN = (c5TN + c5FP)\n",
    "c5GT = (c5TN + c5TP + c5FP + c5FN)\n",
    "c5TAN, c5GT"
   ]
  },
  {
   "cell_type": "code",
   "execution_count": null,
   "id": "ae10a010",
   "metadata": {},
   "outputs": [],
   "source": [
    "Accuracyallnegc5 = (c5TAN/c5GT)\n",
    "Accuracyallnegc5"
   ]
  },
  {
   "cell_type": "code",
   "execution_count": null,
   "id": "3c548a2d",
   "metadata": {},
   "outputs": [],
   "source": [
    "#CART model"
   ]
  },
  {
   "cell_type": "code",
   "execution_count": null,
   "id": "bbb8d4ee",
   "metadata": {},
   "outputs": [],
   "source": [
    "amexmodelcart=DecisionTreeClassifier(criterion='gini', max_depth=6, max_leaf_nodes=6)"
   ]
  },
  {
   "cell_type": "code",
   "execution_count": null,
   "id": "64554964",
   "metadata": {},
   "outputs": [],
   "source": [
    "amexmodelcart.fit(X,y)"
   ]
  },
  {
   "cell_type": "code",
   "execution_count": null,
   "id": "798df264",
   "metadata": {},
   "outputs": [],
   "source": [
    "amexmodelcart01 = str(amexmodelcart)"
   ]
  },
  {
   "cell_type": "code",
   "execution_count": null,
   "id": "370c172d",
   "metadata": {},
   "outputs": [],
   "source": [
    "export_graphviz(amexmodelcart, out_file = \"C:/Users/Kenzi/OneDrive/Desktop/ADS_502_final/amexmodelcart.dot\")"
   ]
  },
  {
   "cell_type": "code",
   "execution_count": null,
   "id": "ea95ba07",
   "metadata": {},
   "outputs": [],
   "source": [
    "amexcartpredict = amexmodelcart.predict(X)\n",
    "amexcartpredict"
   ]
  },
  {
   "cell_type": "code",
   "execution_count": null,
   "id": "9d88c680",
   "metadata": {},
   "outputs": [],
   "source": [
    "cartcm = confusion_matrix(y, amexcartpredict)\n",
    "cartcm"
   ]
  },
  {
   "cell_type": "code",
   "execution_count": null,
   "id": "be5ac84b",
   "metadata": {},
   "outputs": [],
   "source": [
    "cartTN = cartcm[0][0]\n",
    "cartFP = cartcm[0][1]\n",
    "cartFN = cartcm[1][0]\n",
    "cartTP = cartcm[1][1]\n",
    "print('TN: ', cartTN,\n",
    "      '\\nFP: ', cartFP,\n",
    "      '\\nFN: ', cartFN,\n",
    "      '\\nTP: ', cartTP,)"
   ]
  },
  {
   "cell_type": "code",
   "execution_count": null,
   "id": "fdce5750",
   "metadata": {},
   "outputs": [],
   "source": [
    "cart_Accuracy = ((cartTN + cartTP)/(cartTN + cartTP + cartFP + cartFN))\n",
    "cart_Accuracy"
   ]
  },
  {
   "cell_type": "code",
   "execution_count": null,
   "id": "b8671432",
   "metadata": {},
   "outputs": [],
   "source": [
    "cart_sensitivty = (cartTP/(cartFP + cartTN))\n",
    "cart_sensitivty"
   ]
  },
  {
   "cell_type": "code",
   "execution_count": null,
   "id": "71cd1785",
   "metadata": {},
   "outputs": [],
   "source": [
    "#Random Forest"
   ]
  },
  {
   "cell_type": "code",
   "execution_count": null,
   "id": "0f7c2a7c",
   "metadata": {},
   "outputs": [],
   "source": [
    "from sklearn.ensemble import RandomForestClassifier\n",
    "rfy = np.ravel(y)"
   ]
  },
  {
   "cell_type": "code",
   "execution_count": null,
   "id": "8a4dd11c",
   "metadata": {},
   "outputs": [],
   "source": [
    "rf01 = RandomForestClassifier(n_estimators = 20, criterion=\"gini\", max_depth=6)"
   ]
  },
  {
   "cell_type": "code",
   "execution_count": null,
   "id": "31078b1e",
   "metadata": {},
   "outputs": [],
   "source": [
    "rf01.fit(X,rfy)"
   ]
  },
  {
   "cell_type": "code",
   "execution_count": null,
   "id": "015a4884",
   "metadata": {},
   "outputs": [],
   "source": [
    "rfpredictions = rf01.predict(X)\n",
    "rfpredictions"
   ]
  },
  {
   "cell_type": "code",
   "execution_count": null,
   "id": "ff089780",
   "metadata": {},
   "outputs": [],
   "source": [
    "rfcm = confusion_matrix(y, rfpredictions)\n",
    "rfcm"
   ]
  },
  {
   "cell_type": "code",
   "execution_count": null,
   "id": "0098cb45",
   "metadata": {},
   "outputs": [],
   "source": [
    "rfTN = rfcm[0][0]\n",
    "rfFP = rfcm[0][1]\n",
    "rfFN = rfcm[1][0]\n",
    "rfTP = rfcm[1][1]\n",
    "print('TN: ', rfTN,\n",
    "      '\\nFP: ', rfFP,\n",
    "      '\\nFN: ', rfFN,\n",
    "      '\\nTP: ', rfTP,)"
   ]
  },
  {
   "cell_type": "code",
   "execution_count": null,
   "id": "b3ac7b68",
   "metadata": {},
   "outputs": [],
   "source": [
    "rf_Accuracy = ((rfTN + rfTP)/(rfTN + rfTP + rfFP + rfFN))\n",
    "rf_Accuracy"
   ]
  },
  {
   "cell_type": "code",
   "execution_count": null,
   "id": "b2d5f906",
   "metadata": {},
   "outputs": [],
   "source": [
    "rf_sensitivty = (rfTP/(rfFP + rfTN))\n",
    "rf_sensitivty"
   ]
  },
  {
   "cell_type": "code",
   "execution_count": null,
   "id": "c802799d",
   "metadata": {},
   "outputs": [],
   "source": [
    "# Metric from Kaggle Site"
   ]
  },
  {
   "cell_type": "code",
   "execution_count": null,
   "id": "c5585744",
   "metadata": {},
   "outputs": [],
   "source": [
    "def amex_metric(y_true: pd.DataFrame, y_pred: pd.DataFrame) -> float:\n",
    "\n",
    "    def top_four_percent_captured(y_true: pd.DataFrame, y_pred: pd.DataFrame) -> float:\n",
    "        df = (pd.concat([y_true, y_pred], axis='columns')\n",
    "              .sort_values('prediction', ascending=False))\n",
    "        df['weight'] = df['target'].apply(lambda x: 20 if x==0 else 1)\n",
    "        four_pct_cutoff = int(0.04 * df['weight'].sum())\n",
    "        df['weight_cumsum'] = df['weight'].cumsum()\n",
    "        df_cutoff = df.loc[df['weight_cumsum'] <= four_pct_cutoff]\n",
    "        return (df_cutoff['target'] == 1).sum() / (df['target'] == 1).sum()\n",
    "        \n",
    "    def weighted_gini(y_true: pd.DataFrame, y_pred: pd.DataFrame) -> float:\n",
    "        df = (pd.concat([y_true, y_pred], axis='columns')\n",
    "              .sort_values('prediction', ascending=False))\n",
    "        df['weight'] = df['target'].apply(lambda x: 20 if x==0 else 1)\n",
    "        df['random'] = (df['weight'] / df['weight'].sum()).cumsum()\n",
    "        total_pos = (df['target'] * df['weight']).sum()\n",
    "        df['cum_pos_found'] = (df['target'] * df['weight']).cumsum()\n",
    "        df['lorentz'] = df['cum_pos_found'] / total_pos\n",
    "        df['gini'] = (df['lorentz'] - df['random']) * df['weight']\n",
    "        return df['gini'].sum()\n",
    "\n",
    "    def normalized_weighted_gini(y_true: pd.DataFrame, y_pred: pd.DataFrame) -> float:\n",
    "        y_true_pred = y_true.rename(columns={'target': 'prediction'})\n",
    "        return weighted_gini(y_true, y_pred) / weighted_gini(y_true, y_true_pred)\n",
    "\n",
    "    g = normalized_weighted_gini(y_true, y_pred)\n",
    "    d = top_four_percent_captured(y_true, y_pred)\n",
    "\n",
    "    return 0.5 * (g + d)"
   ]
  },
  {
   "cell_type": "code",
   "execution_count": null,
   "id": "1c4f5b4c",
   "metadata": {},
   "outputs": [],
   "source": [
    "train_data = pd.read_csv('Train25.csv',\n",
    "    index_col='customer_ID',\n",
    "    usecols=['customer_ID', 'P_2'])"
   ]
  },
  {
   "cell_type": "code",
   "execution_count": null,
   "id": "676a0a01",
   "metadata": {},
   "outputs": [],
   "source": [
    "train_labels = pd.read_csv('train_labels.csv', index_col='customer_ID')"
   ]
  },
  {
   "cell_type": "code",
   "execution_count": null,
   "id": "f49b0d10",
   "metadata": {},
   "outputs": [],
   "source": [
    "ave_p2 = (train_data\n",
    "          .groupby('customer_ID')\n",
    "          .mean()\n",
    "          .rename(columns={'P_2': 'prediction'}))"
   ]
  },
  {
   "cell_type": "code",
   "execution_count": null,
   "id": "e5457ae2",
   "metadata": {},
   "outputs": [],
   "source": [
    "# Scale the mean P_2 by the max value and take the compliment\n",
    "ave_p2['prediction'] = 1.0 - (ave_p2['prediction'] / ave_p2['prediction'].max())"
   ]
  },
  {
   "cell_type": "code",
   "execution_count": null,
   "id": "4e014f78",
   "metadata": {},
   "outputs": [],
   "source": [
    "print(amex_metric(train_labels, ave_p2))"
   ]
  },
  {
   "cell_type": "code",
   "execution_count": null,
   "id": "2988d508",
   "metadata": {},
   "outputs": [],
   "source": [
    "# MC Evaluation of Trees"
   ]
  },
  {
   "cell_type": "code",
   "execution_count": null,
   "id": "bdc04917",
   "metadata": {},
   "outputs": [],
   "source": [
    "from sklearn.metrics import confusion_matrix\n",
    "from sklearn.metrics import ConfusionMatrixDisplay\n",
    "from sklearn.metrics import accuracy_score\n",
    "from sklearn.metrics import classification_report"
   ]
  },
  {
   "cell_type": "code",
   "execution_count": null,
   "id": "481e0fe6",
   "metadata": {},
   "outputs": [],
   "source": [
    "#import sys\n",
    "#!{sys.executable} -m pip install pyarrow"
   ]
  },
  {
   "cell_type": "code",
   "execution_count": null,
   "id": "f416db6e",
   "metadata": {},
   "outputs": [],
   "source": [
    "import pyarrow as pa\n",
    "import pyarrow.parquet as pq"
   ]
  },
  {
   "cell_type": "code",
   "execution_count": null,
   "id": "f22be1b2",
   "metadata": {},
   "outputs": [],
   "source": [
    "testpq = pq.read_table('test.parquet')"
   ]
  },
  {
   "cell_type": "code",
   "execution_count": null,
   "id": "8632ce83",
   "metadata": {},
   "outputs": [],
   "source": [
    "testpq.to_pandas().head()"
   ]
  },
  {
   "cell_type": "code",
   "execution_count": null,
   "id": "227a0e3a",
   "metadata": {},
   "outputs": [],
   "source": [
    "# Dealing with major MemoryErrors despite using parquet files to reduce file size. "
   ]
  }
 ],
 "metadata": {
  "kernelspec": {
   "display_name": "Python 3 (ipykernel)",
   "language": "python",
   "name": "python3"
  },
  "language_info": {
   "codemirror_mode": {
    "name": "ipython",
    "version": 3
   },
   "file_extension": ".py",
   "mimetype": "text/x-python",
   "name": "python",
   "nbconvert_exporter": "python",
   "pygments_lexer": "ipython3",
   "version": "3.9.12"
  }
 },
 "nbformat": 4,
 "nbformat_minor": 5
}
