{
 "cells": [
  {
   "cell_type": "markdown",
   "id": "93004b00",
   "metadata": {},
   "source": [
    "# Default Detection for American Express \n",
    "\n",
    "## Mackenzie Carter, Salvador R Sanchez Castro\n",
    "\n",
    "### University of San Diego \n",
    "\n",
    "### Master of Science, Applied Data Science \n",
    "\n",
    "## MADS 502: Data Minning  "
   ]
  },
  {
   "cell_type": "markdown",
   "id": "c89f0366",
   "metadata": {},
   "source": [
    " The dataset contains aggregated profile features for each customer at each statement date. Features are anonymized and normalized, and fall into the following general categories: \n",
    " \n",
    "$D_*$ = Delinquency variables \n",
    "\n",
    "$S_*$ = Spend variables \n",
    "\n",
    "$P_*$ = Payment variables \n",
    "\n",
    "$B_*$ = Balance variables \n",
    "\n",
    "$R_*$ = Risk variables \n",
    "\n",
    "with the following features being categorical:  \n",
    "\n",
    "['B_30', 'B_38', 'D_114', 'D_116', 'D_117', 'D_120', 'D_126', 'D_63', 'D_64', 'D_66', 'D_68'] \n"
   ]
  },
  {
   "cell_type": "markdown",
   "id": "72175eea",
   "metadata": {},
   "source": [
    "Note that the negative class has been subsampled for this dataset at 5%, and thus receives a 20x weighting in the scoring metric. "
   ]
  },
  {
   "cell_type": "markdown",
   "id": "bdb8a379",
   "metadata": {},
   "source": [
    "***"
   ]
  },
  {
   "cell_type": "markdown",
   "id": "3d2c0eca",
   "metadata": {},
   "source": [
    "# Section 1 Explore Data"
   ]
  },
  {
   "cell_type": "code",
   "execution_count": 1,
   "id": "78b6d218",
   "metadata": {},
   "outputs": [],
   "source": [
    "#Import libraries\n",
    "import pandas as pd\n",
    "import seaborn as sns\n",
    "import matplotlib.pyplot as plt\n",
    "import numpy as np\n",
    "import statsmodels.api as sm\n",
    "from scipy import stats\n",
    "import time\n",
    "from matplotlib.ticker import FormatStrFormatter, StrMethodFormatter"
   ]
  },
  {
   "cell_type": "code",
   "execution_count": 2,
   "id": "ea396dc1",
   "metadata": {},
   "outputs": [],
   "source": [
    "#Suppress all warnings\n",
    "import warnings\n",
    "warnings.filterwarnings(\"ignore\")"
   ]
  },
  {
   "cell_type": "code",
   "execution_count": null,
   "id": "0eefeaae",
   "metadata": {},
   "outputs": [],
   "source": [
    "#Load Data in Dataframe and verify load time\n",
    "start_time = time.time()\n",
    "train_data = pd.read_csv('Train25.csv')\n",
    "#train_data = pd.read_csv('train_data.csv')\n",
    "\n",
    "print(\"--- %s seconds ---\" % (time.time() - start_time))\n",
    "train_data.head()"
   ]
  },
  {
   "cell_type": "code",
   "execution_count": null,
   "id": "e6b5d0f5",
   "metadata": {},
   "outputs": [],
   "source": [
    "#Load Data in Dataframe and verify load time\n",
    "start_time = time.time()\n",
    "train_labels = pd.read_csv('train_labels.csv')\n",
    "print(\"--- %s seconds ---\" % (time.time() - start_time))\n",
    "train_labels.head()"
   ]
  },
  {
   "cell_type": "code",
   "execution_count": null,
   "id": "d0f2da36",
   "metadata": {},
   "outputs": [],
   "source": [
    "#Merge training data with target class\n",
    "train_data = pd.merge(train_data, train_labels, on='customer_ID')\n",
    "train_data.head()"
   ]
  },
  {
   "cell_type": "code",
   "execution_count": null,
   "id": "0195ae96",
   "metadata": {},
   "outputs": [],
   "source": [
    "#Define y (Target)\n",
    "y = pd.DataFrame(train_data[['target']])\n",
    "y.head()"
   ]
  },
  {
   "cell_type": "code",
   "execution_count": null,
   "id": "216520de",
   "metadata": {},
   "outputs": [],
   "source": [
    "#Drop target\n",
    "train_data = train_data.drop(columns=['target'])"
   ]
  },
  {
   "cell_type": "code",
   "execution_count": null,
   "id": "1ee14257",
   "metadata": {},
   "outputs": [],
   "source": [
    "#df Shape\n",
    "train_data.shape"
   ]
  },
  {
   "cell_type": "code",
   "execution_count": null,
   "id": "1dd9a4fa",
   "metadata": {},
   "outputs": [],
   "source": [
    "#Data types\n",
    "train_data.info()"
   ]
  },
  {
   "cell_type": "markdown",
   "id": "603e0d70",
   "metadata": {},
   "source": [
    "## Work with Non Numerical Data"
   ]
  },
  {
   "cell_type": "code",
   "execution_count": null,
   "id": "04650431",
   "metadata": {},
   "outputs": [],
   "source": [
    "#function for extracting objects\n",
    "def getObjectCol(df):\n",
    "    DType = ['object']\n",
    "    df = df.select_dtypes(include=DType)\n",
    "        \n",
    "    return df"
   ]
  },
  {
   "cell_type": "code",
   "execution_count": null,
   "id": "34511b98",
   "metadata": {},
   "outputs": [],
   "source": [
    "#function for extracting numerical\n",
    "def getNumericCol(df):\n",
    "    DType = ['float64','int64']\n",
    "    df = df.select_dtypes(include=DType)\n",
    "        \n",
    "    return df"
   ]
  },
  {
   "cell_type": "code",
   "execution_count": null,
   "id": "3666ab25",
   "metadata": {},
   "outputs": [],
   "source": [
    "#Segregate ID Columns\n",
    "train_data_ID = train_data[['Unnamed: 0','customer_ID']]\n",
    "train_data_ID.head()"
   ]
  },
  {
   "cell_type": "code",
   "execution_count": null,
   "id": "811560fc",
   "metadata": {},
   "outputs": [],
   "source": [
    "#Segregate Catagorical\n",
    "train_data_Cat = train_data[['target','B_30', 'B_38', 'D_114', 'D_116', 'D_117', 'D_120', 'D_126', 'D_63', 'D_64', 'D_66', 'D_68']]\n",
    "train_data_Cat.head()"
   ]
  },
  {
   "cell_type": "code",
   "execution_count": null,
   "id": "b9b770c7",
   "metadata": {},
   "outputs": [],
   "source": [
    "#View Data Type\n",
    "train_data_Cat.info()"
   ]
  },
  {
   "cell_type": "code",
   "execution_count": null,
   "id": "f071de4b",
   "metadata": {},
   "outputs": [],
   "source": [
    "#Convert All columns to catagorical\n",
    "for col in train_data_Cat.columns:\n",
    "    train_data_Cat[col] = train_data_Cat[col].astype('category')"
   ]
  },
  {
   "cell_type": "code",
   "execution_count": null,
   "id": "a2a79424",
   "metadata": {},
   "outputs": [],
   "source": [
    "#View Data Type after transformation\n",
    "train_data_Cat.info()"
   ]
  },
  {
   "cell_type": "code",
   "execution_count": null,
   "id": "579e08a2",
   "metadata": {
    "scrolled": false
   },
   "outputs": [],
   "source": [
    "#View data\n",
    "sns.set_theme(style=\"whitegrid\")\n",
    "sns.set_context(\"poster\")\n",
    "fig, (ax1, ax2) = plt.subplots(1,2, figsize=(20,8), sharey=True)\n",
    "\n",
    "sns.histplot(train_data_Cat, x='B_30', hue=\"target\", stat=\"probability\", multiple=\"fill\", \\\n",
    "             shrink=.8, palette=(\"PuBu\"), ax=ax1)\n",
    "sns.histplot(train_data_Cat, x='B_38', hue=\"target\", stat=\"probability\", multiple=\"fill\", \\\n",
    "             shrink=.8, palette=(\"Purples\"), ax=ax2)\n",
    "plt.show()"
   ]
  },
  {
   "cell_type": "code",
   "execution_count": null,
   "id": "ad8340ce",
   "metadata": {},
   "outputs": [],
   "source": [
    "#View data\n",
    "sns.set_theme(style=\"whitegrid\")\n",
    "sns.set_context(\"poster\")\n",
    "fig, (ax1, ax2, ax3, ax4) = plt.subplots(1,4, figsize=(20,8), sharey=True)\n",
    "\n",
    "sns.histplot(train_data_Cat, x='D_63', hue=\"target\", stat=\"probability\", multiple=\"fill\", \\\n",
    "             shrink=.8, palette=(\"PuBu\"), ax=ax1)\n",
    "sns.histplot(train_data_Cat, x='D_64', hue=\"target\", stat=\"probability\", multiple=\"fill\", \\\n",
    "             shrink=.8, palette=(\"Purples\"), ax=ax2)\n",
    "sns.histplot(train_data_Cat, x='D_66', hue=\"target\", stat=\"probability\", multiple=\"fill\", \\\n",
    "             shrink=.8, palette=(\"Greens\"), ax=ax3)\n",
    "sns.histplot(train_data_Cat, x='D_68', hue=\"target\", stat=\"probability\", multiple=\"fill\", \\\n",
    "             shrink=.8, palette=(\"Reds\"), ax=ax4)\n",
    "plt.show()"
   ]
  },
  {
   "cell_type": "code",
   "execution_count": null,
   "id": "1df61da1",
   "metadata": {},
   "outputs": [],
   "source": [
    "#View data\n",
    "sns.set_theme(style=\"whitegrid\")\n",
    "sns.set_context(\"poster\")\n",
    "fig, (ax1, ax2, ax3) = plt.subplots(1,3, figsize=(20,8), sharey=True)\n",
    "\n",
    "sns.histplot(train_data_Cat, x='D_114', hue=\"target\", stat=\"probability\", multiple=\"fill\", \\\n",
    "             shrink=.8, palette=(\"PuBu\"), ax=ax1)\n",
    "sns.histplot(train_data_Cat, x='D_116', hue=\"target\", stat=\"probability\", multiple=\"fill\", \\\n",
    "             shrink=.8, palette=(\"Purples\"), ax=ax2)\n",
    "sns.histplot(train_data_Cat, x='D_117', hue=\"target\", stat=\"probability\", multiple=\"fill\", \\\n",
    "             shrink=.8, palette=(\"Greens\"), ax=ax3)\n",
    "\n",
    "plt.show()"
   ]
  },
  {
   "cell_type": "code",
   "execution_count": null,
   "id": "79eb5856",
   "metadata": {},
   "outputs": [],
   "source": [
    "#View data\n",
    "sns.set_theme(style=\"whitegrid\")\n",
    "sns.set_context(\"poster\")\n",
    "fig, (ax1, ax2) = plt.subplots(1,2, figsize=(20,8), sharey=True)\n",
    "\n",
    "sns.histplot(train_data_Cat, x='D_120', hue=\"target\", stat=\"probability\", multiple=\"fill\", \\\n",
    "             shrink=.8, palette=(\"PuBu\"), ax=ax1)\n",
    "sns.histplot(train_data_Cat, x='D_126', hue=\"target\", stat=\"probability\", multiple=\"fill\", \\\n",
    "             shrink=.8, palette=(\"Purples\"), ax=ax2)\n",
    "plt.show()"
   ]
  },
  {
   "cell_type": "code",
   "execution_count": null,
   "id": "e818ad6c",
   "metadata": {},
   "outputs": [],
   "source": [
    "#Drop target\n",
    "train_data_Cat = train_data_Cat.drop(columns=['target'])"
   ]
  },
  {
   "cell_type": "code",
   "execution_count": null,
   "id": "795bb116",
   "metadata": {},
   "outputs": [],
   "source": [
    "#Data quality report\n",
    "\n",
    "#Initial table\n",
    "freqDF = pd.DataFrame(columns=['Feature','Mode','Mode Freq.','Mode %','2nd Mode','2nd Mode Freq.','2nd Mode %'])\n",
    "for col in train_data_Cat.columns:\n",
    "    freq = train_data_Cat[col].value_counts()\n",
    "    freqdf = freq.to_frame()\n",
    "    fRow = freqdf.iloc[0]\n",
    "    secRow = freqdf.iloc[1]\n",
    "    fPrct = fRow[0] / len(train_data_Cat[col])\n",
    "    secPrct = secRow[0] / len(train_data_Cat[col])\n",
    "    try:\n",
    "        mode1 = int(fRow.name)\n",
    "    except:\n",
    "        mode1 = fRow.name\n",
    "    try:\n",
    "        mode2 = int(secRow.name)\n",
    "    except:\n",
    "        mode2 = secRow.name\n",
    "    freqDF = freqDF.append({'Feature':col,'Mode':mode1,'Mode Freq.':fRow[0],'Mode %':fPrct,\\\n",
    "                           '2nd Mode':mode2,'2nd Mode Freq.':secRow[0],'2nd Mode %':secPrct}, ignore_index=True)\n",
    "\n",
    "freqDF = freqDF.set_index('Feature')\n",
    "\n",
    "#Nulls, Counts, Cardinality\n",
    "NUllFeatures = round(train_data_Cat.isnull().sum() / train_data_Cat.shape[0],4)\\\n",
    "      .sort_values(ascending=False)\n",
    "Count = train_data_Cat.count()\n",
    "uni = train_data_Cat.nunique()\n",
    "\n",
    "#Formating\n",
    "NUllFeatures.to_frame(name=\"% Miss.\")\n",
    "Count.to_frame(name=\"Count\")\n",
    "uni.to_frame()\n",
    "result = pd.concat([Count, NUllFeatures,uni], axis=1)\n",
    "result.columns =[\"Count\",\"% Miss.\",\"Card.\"]\n",
    "result = pd.concat([result, freqDF], axis=1)\n",
    "#result = result.drop(['respondent_id'])\n",
    "result.style.format({'% Miss.': \"{:.1%}\",'Mode %': \"{:.0%}\",'2nd Mode %': \"{:.0%}\",\\\n",
    "                     'Count': \"{:,}\",'Card.': \"{:,}\",'Mode Freq.': \"{:,}\",\\\n",
    "                    '2nd Mode Freq.': \"{:,}\"})"
   ]
  },
  {
   "cell_type": "code",
   "execution_count": null,
   "id": "ec99ab05",
   "metadata": {},
   "outputs": [],
   "source": [
    "result['Mode %']"
   ]
  },
  {
   "cell_type": "code",
   "execution_count": null,
   "id": "d4b77a3d",
   "metadata": {},
   "outputs": [],
   "source": [
    "#Drop attributes with Mode% Above 95%\n",
    "train_data_Cat = train_data_Cat.drop(columns=['D_66','D_116'])"
   ]
  },
  {
   "cell_type": "code",
   "execution_count": null,
   "id": "f8af44b9",
   "metadata": {},
   "outputs": [],
   "source": [
    "#Drop Id and Cat Columns\n",
    "train_data = train_data.drop(columns=['Unnamed: 0','customer_ID'])\n",
    "train_data = train_data.drop(columns=['B_30', 'B_38', 'D_114', 'D_116', 'D_117', 'D_120', 'D_126', 'D_63', 'D_64', 'D_66', 'D_68'])"
   ]
  },
  {
   "cell_type": "code",
   "execution_count": null,
   "id": "9bb5928b",
   "metadata": {},
   "outputs": [],
   "source": [
    "#Show object col\n",
    "train_data_objects = getObjectCol(train_data)\n",
    "train_data_objects.head()"
   ]
  },
  {
   "cell_type": "code",
   "execution_count": null,
   "id": "391d6dd9",
   "metadata": {},
   "outputs": [],
   "source": [
    "#Change S_2 to DateTime\n",
    "train_data_objects['S_2'] = \\\n",
    "pd.to_datetime(train_data_objects['S_2'])\n",
    "train_data_objects.info()"
   ]
  },
  {
   "cell_type": "code",
   "execution_count": null,
   "id": "01545986",
   "metadata": {},
   "outputs": [],
   "source": [
    "#Unique values on D_63\n",
    "train_data_Cat['D_63'].unique()"
   ]
  },
  {
   "cell_type": "code",
   "execution_count": null,
   "id": "e93eab77",
   "metadata": {},
   "outputs": [],
   "source": [
    "#Unique values on D_64\n",
    "train_data_Cat['D_64'].unique()"
   ]
  },
  {
   "cell_type": "code",
   "execution_count": null,
   "id": "8cac4e0d",
   "metadata": {},
   "outputs": [],
   "source": [
    "#show percentage of null values\n",
    "def nullVals(df):\n",
    "    return round(df.isnull().sum() / df.shape[0] *100,2)"
   ]
  },
  {
   "cell_type": "code",
   "execution_count": null,
   "id": "f23a8ed5",
   "metadata": {},
   "outputs": [],
   "source": [
    "#Checking percantage of null values in objects\n",
    "nullVals(train_data_Cat)"
   ]
  },
  {
   "cell_type": "code",
   "execution_count": null,
   "id": "a270a206",
   "metadata": {},
   "outputs": [],
   "source": [
    "#dummies on objects\n",
    "train_data_Cat_dum = pd.get_dummies(train_data_Cat)\n",
    "train_data_Cat_dum.head()"
   ]
  },
  {
   "cell_type": "markdown",
   "id": "896247b5",
   "metadata": {},
   "source": [
    "## Work with Numerical Data"
   ]
  },
  {
   "cell_type": "code",
   "execution_count": null,
   "id": "0dd04384",
   "metadata": {},
   "outputs": [],
   "source": [
    "#Show Numeric col\n",
    "train_data_numeric = getNumericCol(train_data)\n",
    "\n",
    "#Drop target\n",
    "train_data_numeric = train_data_numeric.drop(columns=['target'])\n",
    "train_data_numeric"
   ]
  },
  {
   "cell_type": "code",
   "execution_count": null,
   "id": "58c53a07",
   "metadata": {},
   "outputs": [],
   "source": [
    "from sklearn.preprocessing import MinMaxScaler\n",
    "\n",
    "scale = MinMaxScaler()\n",
    "\n",
    "train_data_numeric[train_data_numeric.columns] = scale.fit_transform(train_data_numeric) "
   ]
  },
  {
   "cell_type": "code",
   "execution_count": null,
   "id": "f53326b9",
   "metadata": {},
   "outputs": [],
   "source": [
    "train_data_numeric"
   ]
  },
  {
   "cell_type": "code",
   "execution_count": null,
   "id": "54a54ca0",
   "metadata": {},
   "outputs": [],
   "source": [
    "#Checking percantage of null values in numeric\n",
    "numericNulls = nullVals(train_data_numeric)\n",
    "numericNulls"
   ]
  },
  {
   "cell_type": "code",
   "execution_count": null,
   "id": "fbdb78eb",
   "metadata": {},
   "outputs": [],
   "source": [
    "#Limit of nulls aceptable (pct)\n",
    "x = 20"
   ]
  },
  {
   "cell_type": "code",
   "execution_count": null,
   "id": "2ddb4cd6",
   "metadata": {
    "scrolled": false
   },
   "outputs": [],
   "source": [
    "#nulss above limit\n",
    "pctNulls = 5\n",
    "numericNulls = numericNulls[numericNulls > pctNulls]\n",
    "\n",
    "#To DF\n",
    "numericNullsDf = numericNulls.to_frame(name = 'numericNulls')\n",
    "numericNullsDf = numericNullsDf.sort_values('numericNulls',\\\n",
    "                                            ascending=False)\n",
    "\n",
    "# figure for missing values\n",
    "sns.set_theme(style=\"darkgrid\")\n",
    "sns.set(font_scale=1.5)\n",
    "ax = plt.subplots(figsize=(20,10), sharex=True)\n",
    "\n",
    "ax = sns.barplot(x=numericNullsDf.index,\\\n",
    "                 y=numericNullsDf.numericNulls,\\\n",
    "                 data=numericNullsDf)\n",
    "ax.axhline(x, ls='--')\n",
    "\n",
    "ax.set(title='Null Values in Numeric Data')\n",
    "ax.set(xlabel=\"Attribute\", ylabel='% of Missing Values')\n",
    "\n",
    "plt.xticks(rotation=45)\n",
    "plt.show()"
   ]
  },
  {
   "cell_type": "code",
   "execution_count": null,
   "id": "fb5d2d6d",
   "metadata": {},
   "outputs": [],
   "source": [
    "print('Number of columns with nulls above ' + \\\n",
    "      str(pctNulls) + '% is -> ' + str(numericNulls.shape[0]))"
   ]
  },
  {
   "cell_type": "code",
   "execution_count": null,
   "id": "0ca19f34",
   "metadata": {},
   "outputs": [],
   "source": [
    "#Limit of nulls aceptable function\n",
    "numericNullsDf_aboveXpct = numericNullsDf[numericNullsDf > x].dropna()\n",
    "cols2Drop = numericNullsDf_aboveXpct.index\n",
    "cols2Drop"
   ]
  },
  {
   "cell_type": "code",
   "execution_count": null,
   "id": "2713b44a",
   "metadata": {},
   "outputs": [],
   "source": [
    "#Drop variables with to many nulls\n",
    "train_data_numeric_clean = train_data_numeric.drop(columns= cols2Drop)\n",
    "train_data_numeric_clean"
   ]
  },
  {
   "cell_type": "code",
   "execution_count": null,
   "id": "97e68b25",
   "metadata": {},
   "outputs": [],
   "source": [
    "#Correlation Matrix\n",
    "corr = train_data_numeric_clean.corr().abs()"
   ]
  },
  {
   "cell_type": "code",
   "execution_count": null,
   "id": "36a24494",
   "metadata": {},
   "outputs": [],
   "source": [
    "#Top Correlations\n",
    "topCorr = corr.unstack().sort_values(ascending=False)\n",
    "\n",
    "topCorrDF = topCorr.to_frame()\n",
    "topCorrDF.reset_index(inplace=True)\n",
    "topCorrDF['Keep'] = topCorrDF['level_0'] != topCorrDF['level_1'] \n",
    "topCorrDF = topCorrDF[topCorrDF['Keep']]\n",
    "topCorrDF = topCorrDF.drop(columns=['Keep'])\n",
    "topCorrDF.columns = ['ATTR A','ATTR B','Corr.']\n",
    "topCorrDF.head(10)\n"
   ]
  },
  {
   "cell_type": "code",
   "execution_count": null,
   "id": "4b0472a9",
   "metadata": {},
   "outputs": [],
   "source": [
    "#High Corrlated values\n",
    "topCorrDFHC = topCorrDF[topCorrDF['Corr.'] > 0.85]\n",
    "topCorrDFHC.shape"
   ]
  },
  {
   "cell_type": "code",
   "execution_count": null,
   "id": "fc9900b4",
   "metadata": {},
   "outputs": [],
   "source": [
    "# figure for corrlations\n",
    "sns.set_theme(style=\"darkgrid\")\n",
    "sns.set(font_scale=1.5)\n",
    "ax = plt.subplots(figsize=(20,10), sharex=True)\n",
    "\n",
    "\n",
    "ax = sns.barplot(x=topCorrDFHC.index,\\\n",
    "                 y=topCorrDFHC['Corr.'],\\\n",
    "                 data=topCorrDFHC)\n",
    "\n",
    "ax.set(title='High Correlation')\n",
    "ax.set(xlabel=\"Attribute Pair Index\", ylabel='Correlation')\n",
    "\n",
    "plt.xticks(rotation=45)\n",
    "plt.show()"
   ]
  },
  {
   "cell_type": "code",
   "execution_count": null,
   "id": "7e8b351d",
   "metadata": {},
   "outputs": [],
   "source": [
    "\n",
    "#Column to identify which attributes to remove\n",
    "topCorrDFHC['Running'] = np.arange(len(topCorrDFHC))\n",
    "topCorrDFHC.head()"
   ]
  },
  {
   "cell_type": "code",
   "execution_count": null,
   "id": "66bd1929",
   "metadata": {},
   "outputs": [],
   "source": [
    "#Remove pair for high correaltions\n",
    "topCorrDFHC = topCorrDFHC[topCorrDFHC.index%2==0]\n",
    "topCorrDFHC.head()"
   ]
  },
  {
   "cell_type": "code",
   "execution_count": null,
   "id": "deb0b796",
   "metadata": {},
   "outputs": [],
   "source": [
    "#Drop variables with high correlation \n",
    "train_data_numeric_clean_HC = \\\n",
    "train_data_numeric_clean.drop(columns= topCorrDFHC['ATTR A'])\n",
    "train_data_numeric_clean_HC"
   ]
  },
  {
   "cell_type": "code",
   "execution_count": null,
   "id": "3b52334b",
   "metadata": {},
   "outputs": [],
   "source": [
    "trainSD = train_data_numeric_clean_HC.std().sort_values(ascending=False)\n",
    "trainSD = trainSD.to_frame()\n",
    "trainSD"
   ]
  },
  {
   "cell_type": "code",
   "execution_count": null,
   "id": "ee853a99",
   "metadata": {},
   "outputs": [],
   "source": [
    "#Low variation\n",
    "SDMin = 0.1\n",
    "trainSDLow = trainSD[trainSD[0] < SDMin]\n",
    "trainSDLow.shape"
   ]
  },
  {
   "cell_type": "code",
   "execution_count": null,
   "id": "34df6cc9",
   "metadata": {},
   "outputs": [],
   "source": [
    "#Low variation to drop\n",
    "cols2DropLow = trainSDLow.index\n",
    "cols2DropLow"
   ]
  },
  {
   "cell_type": "code",
   "execution_count": null,
   "id": "40649004",
   "metadata": {},
   "outputs": [],
   "source": [
    "#Drop variables low variation\n",
    "train_data_numeric_clean_HC_HighVariation = train_data_numeric_clean_HC.drop(columns= cols2DropLow)\n",
    "train_data_numeric_clean_HC_HighVariation"
   ]
  },
  {
   "cell_type": "code",
   "execution_count": null,
   "id": "f1aa8738",
   "metadata": {},
   "outputs": [],
   "source": [
    "# figure Standard Devation\n",
    "sns.set_theme(style=\"darkgrid\")\n",
    "ax = plt.subplots(figsize=(20,10), sharex=True)\n",
    "\n",
    "ax = sns.barplot(x=trainSD.index,\\\n",
    "                 y=trainSD[0],\\\n",
    "                 data=trainSD)\n",
    "\n",
    "ax.set(title='Standar Deviation')\n",
    "ax.set(xlabel=\"Attribute\", ylabel='STD')\n",
    "ax.axhline(SDMin, ls='--')\n",
    "\n",
    "plt.xticks(rotation=45)\n",
    "plt.show()"
   ]
  },
  {
   "cell_type": "code",
   "execution_count": null,
   "id": "74795d6a",
   "metadata": {},
   "outputs": [],
   "source": [
    "Delinquency = train_data_numeric_clean_HC.filter(regex='D')\n",
    "Delinquency = pd.concat([Delinquency,y], axis = 1)\n",
    "Delinquency.head()"
   ]
  },
  {
   "cell_type": "code",
   "execution_count": null,
   "id": "67e98596",
   "metadata": {},
   "outputs": [],
   "source": [
    "#Figure config\n",
    "sns.set_theme(style=\"darkgrid\")\n",
    "sns.set_context(\"poster\")\n",
    "fig, ax = plt.subplots(figsize=(20,10))\n",
    "\n",
    "ax = sns.histplot(data=Delinquency, x=\"D_47\", kde=True, hue=\"target\")\n",
    "\n",
    "#Format Axis\n",
    "ax.yaxis.set_major_formatter(StrMethodFormatter('{x:,}'))\n",
    "\n",
    "plt.show()"
   ]
  },
  {
   "cell_type": "code",
   "execution_count": null,
   "id": "8fe550d2",
   "metadata": {},
   "outputs": [],
   "source": [
    "N = 18\n",
    "# Select first N columns\n",
    "First_n_column_Deli  = Delinquency.iloc[: , 1:N]\n",
    "Middle_n_column_Deli  = Delinquency.iloc[: , 18:36]\n",
    "Last_n_column_Deli  = Delinquency.iloc[: , -N:]"
   ]
  },
  {
   "cell_type": "code",
   "execution_count": null,
   "id": "f0e5016c",
   "metadata": {},
   "outputs": [],
   "source": [
    "#Boxplot of Delinquency first columns\n",
    "ax = plt.subplots(figsize=(20,10), sharex=True)\n",
    "ax = sns.boxplot(x=\"variable\", y=\"value\", data=pd.melt(first_n_column_Deli))\n",
    "\n",
    "plt.show()"
   ]
  },
  {
   "cell_type": "code",
   "execution_count": null,
   "id": "35764edb",
   "metadata": {},
   "outputs": [],
   "source": [
    "#Boxplot of Delinquency midle columns\n",
    "ax = plt.subplots(figsize=(20,10), sharex=True)\n",
    "ax = sns.boxplot(x=\"variable\", y=\"value\", data=pd.melt(Middle_n_column_Deli))\n",
    "\n",
    "plt.show()"
   ]
  },
  {
   "cell_type": "code",
   "execution_count": null,
   "id": "18826aa2",
   "metadata": {},
   "outputs": [],
   "source": [
    "#Boxplot of Delinquency last columns\n",
    "ax = plt.subplots(figsize=(20,10), sharex=True)\n",
    "ax = sns.boxplot(x=\"variable\", y=\"value\", data=pd.melt(Last_n_column_Deli))\n",
    "\n",
    "plt.show()"
   ]
  },
  {
   "cell_type": "code",
   "execution_count": null,
   "id": "b0f422c8",
   "metadata": {},
   "outputs": [],
   "source": [
    "Risk = train_data_numeric_clean_HC.filter(regex='R')\n",
    "Risk.head()"
   ]
  },
  {
   "cell_type": "code",
   "execution_count": null,
   "id": "054f9cb0",
   "metadata": {},
   "outputs": [],
   "source": [
    "#Boxplot of Delinquency last columns\n",
    "ax = plt.subplots(figsize=(20,10), sharex=True)\n",
    "ax = sns.boxplot(x=\"variable\", y=\"value\", data=pd.melt(Risk))\n",
    "\n",
    "plt.show()"
   ]
  },
  {
   "cell_type": "code",
   "execution_count": null,
   "id": "355a7864",
   "metadata": {},
   "outputs": [],
   "source": [
    "Spend = train_data_numeric_clean_HC.filter(regex='S')\n",
    "Spend.shape()"
   ]
  },
  {
   "cell_type": "code",
   "execution_count": null,
   "id": "d9118615",
   "metadata": {},
   "outputs": [],
   "source": [
    "Payment = train_data_numeric_clean_HC.filter(regex='P')\n",
    "Payment.head()"
   ]
  },
  {
   "cell_type": "code",
   "execution_count": null,
   "id": "0972fd08",
   "metadata": {},
   "outputs": [],
   "source": [
    "Balance = train_data_numeric_clean_HC.filter(regex='B')\n",
    "Balance.head()"
   ]
  },
  {
   "cell_type": "code",
   "execution_count": null,
   "id": "e4e0af62",
   "metadata": {},
   "outputs": [],
   "source": [
    "Delinquency.describe()"
   ]
  },
  {
   "cell_type": "markdown",
   "id": "fc6f5d18",
   "metadata": {},
   "source": [
    "# Modeling"
   ]
  },
  {
   "cell_type": "markdown",
   "id": "48cd0b62",
   "metadata": {},
   "source": [
    "***"
   ]
  },
  {
   "cell_type": "markdown",
   "id": "7a239d75",
   "metadata": {},
   "source": [
    "## Logistic Reegresion"
   ]
  },
  {
   "cell_type": "code",
   "execution_count": null,
   "id": "c9452145",
   "metadata": {},
   "outputs": [],
   "source": [
    "#Delcare X Variables\n",
    "\n",
    "#Concat cataagorical variables\n",
    "X0 = pd.concat([train_data_numeric_clean_HC_HighVariation,train_data_Cat_dum], axis = 1) \n",
    "X1 = pd.concat([train_data_numeric_clean_HC,train_data_Cat_dum], axis = 1) \n",
    "\n",
    "#Fill Nan with mean\n",
    "X0 = X0.fillna(X0.mean())\n",
    "X1 = X1.fillna(X1.mean())\n",
    "\n",
    "#Add constant\n",
    "X0 = sm.add_constant(X0)\n",
    "X1 = sm.add_constant(X1)\n",
    "X1"
   ]
  },
  {
   "cell_type": "code",
   "execution_count": null,
   "id": "1b50dc2a",
   "metadata": {},
   "outputs": [],
   "source": [
    "#Logictic Regression\n",
    "logreg00 = sm.Logit(y, X0).fit()\n",
    "logreg01 = sm.Logit(y, X1).fit()\n",
    "logreg01.summary2()"
   ]
  },
  {
   "cell_type": "code",
   "execution_count": null,
   "id": "81387fc3",
   "metadata": {},
   "outputs": [],
   "source": [
    "def results_summary_to_dataframe(results):\n",
    "    '''take the result of an statsmodel results table and transforms it into a dataframe'''\n",
    "    pvals = results.pvalues\n",
    "    coeff = results.params\n",
    "    conf_lower = results.conf_int()[0]\n",
    "    conf_higher = results.conf_int()[1]\n",
    "\n",
    "    results_df = pd.DataFrame({\"pvals\":pvals,\n",
    "                               \"coeff\":coeff,\n",
    "                               \"conf_lower\":conf_lower,\n",
    "                               \"conf_higher\":conf_higher\n",
    "                                })\n",
    "\n",
    "    #Reordering...\n",
    "    results_df = results_df[[\"coeff\",\"pvals\",\"conf_lower\",\"conf_higher\"]]\n",
    "    return results_df"
   ]
  },
  {
   "cell_type": "code",
   "execution_count": null,
   "id": "0f7aae92",
   "metadata": {},
   "outputs": [],
   "source": [
    "summaryDF = results_summary_to_dataframe(logreg01)\n",
    "summaryDF"
   ]
  },
  {
   "cell_type": "code",
   "execution_count": null,
   "id": "b351051f",
   "metadata": {},
   "outputs": [],
   "source": [
    "summaryDF_05 = summaryDF[summaryDF.pvals > 0.02]\n",
    "cols2DropSum = summaryDF_05.index"
   ]
  },
  {
   "cell_type": "code",
   "execution_count": null,
   "id": "02ba49d6",
   "metadata": {},
   "outputs": [],
   "source": [
    "#X2 is X1 - col with los high P Value\n",
    "X2 = X1.drop(columns= cols2DropSum)"
   ]
  },
  {
   "cell_type": "code",
   "execution_count": null,
   "id": "db0b8a9d",
   "metadata": {},
   "outputs": [],
   "source": [
    "#Logictic Regression with significant variables \n",
    "logreg02 = sm.Logit(y, X2).fit()\n",
    "logreg02.summary2()"
   ]
  },
  {
   "cell_type": "markdown",
   "id": "bb7f0f55",
   "metadata": {},
   "source": [
    "# Long time"
   ]
  },
  {
   "cell_type": "code",
   "execution_count": null,
   "id": "878aa603",
   "metadata": {},
   "outputs": [],
   "source": [
    "#Feature ranking with recursive feature elimination (RFE) to determine the top 15 variables\n",
    "#from sklearn.linear_model import LogisticRegression\n",
    "#logreg = LogisticRegression()\n",
    "\n",
    "#from sklearn.feature_selection import RFE\n",
    "#rfe = RFE(logreg, n_features_to_select=15)         # running RFE with 15 variables as output\n",
    "#rfe = rfe.fit(X2, y)\n",
    "\n",
    "#list(zip(X2.columns, rfe.support_, rfe.ranking_))"
   ]
  },
  {
   "cell_type": "code",
   "execution_count": null,
   "id": "5093cbf7",
   "metadata": {},
   "outputs": [],
   "source": [
    "#Top Columns\n",
    "#col_Top = X2.columns[rfe.support_]\n",
    "#col_Top"
   ]
  },
  {
   "cell_type": "code",
   "execution_count": null,
   "id": "7f166c5a",
   "metadata": {},
   "outputs": [],
   "source": [
    "#X3 is Top variables\n",
    "#X3 = sm.add_constant(X2[col_Top])\n",
    "#X3.head()"
   ]
  },
  {
   "cell_type": "code",
   "execution_count": null,
   "id": "e8b4a086",
   "metadata": {},
   "outputs": [],
   "source": [
    "#Logictic Regression\n",
    "#logreg03 = sm.Logit(y, X3).fit()\n",
    "#logreg03.summary2()"
   ]
  },
  {
   "cell_type": "code",
   "execution_count": null,
   "id": "0b96b784",
   "metadata": {},
   "outputs": [],
   "source": [
    "# Getting the predicted values on the train set\n",
    "y_pred00 = logreg00.predict(X0)\n",
    "y_pred01 = logreg01.predict(X1)\n",
    "y_pred02 = logreg02.predict(X2)\n",
    "#y_pred03 = logreg03.predict(X3)\n",
    "y_pred01"
   ]
  },
  {
   "cell_type": "code",
   "execution_count": null,
   "id": "c7521d5a",
   "metadata": {},
   "outputs": [],
   "source": [
    "#Transform predictions to Int\n",
    "prediction00 = (y_pred00 > 0.5).astype('int')\n",
    "prediction00 = prediction00.to_frame('y_predict')\n",
    "\n",
    "prediction01 = (y_pred01 > 0.5).astype('int')\n",
    "prediction01 = prediction01.to_frame('y_predict')\n",
    "\n",
    "prediction02 = (y_pred02 > 0.5).astype('int')\n",
    "prediction02 = prediction02.to_frame('y_predict')\n",
    "\n",
    "#prediction03 = (y_pred03 > 0.5).astype('int')\n",
    "#prediction03 = prediction03.to_frame('y_predict')\n",
    "\n",
    "prediction01"
   ]
  },
  {
   "cell_type": "code",
   "execution_count": null,
   "id": "31c73e23",
   "metadata": {},
   "outputs": [],
   "source": [
    "#More libraries\n",
    "from sklearn.metrics import confusion_matrix\n",
    "from sklearn.metrics import ConfusionMatrixDisplay\n",
    "from sklearn.metrics import accuracy_score\n",
    "from sklearn.metrics import classification_report"
   ]
  },
  {
   "cell_type": "code",
   "execution_count": null,
   "id": "a022a06c",
   "metadata": {},
   "outputs": [],
   "source": [
    "#Function for Model Evaluation\n",
    "def ModelEval(y, prediction,level_0,level_1):\n",
    "    target_names = [level_0,level_1]\n",
    "    cm= confusion_matrix(y, prediction01)\n",
    "    #plt.(figsize=(20,20))\n",
    "    disp = ConfusionMatrixDisplay(confusion_matrix=cm,\\\n",
    "                                  display_labels=target_names)\n",
    "    fig, ax = plt.subplots(figsize=(6,6))\n",
    "    disp.plot(ax=ax)\n",
    "    #disp\n",
    "    plt.grid(False)\n",
    "    \n",
    "    plt.show()\n",
    "    \n",
    "    #Report\n",
    "   \n",
    "    report = classification_report(y,\\\n",
    "                                   prediction, \\\n",
    "                                   digits=3, \\\n",
    "                                   output_dict=True,\\\n",
    "                                  target_names=target_names)\n",
    "    reportDF = pd.DataFrame(report).T\n",
    "    reportDF = round(reportDF,3)\n",
    "    reportDF['support'] = reportDF['support'].astype('int')\n",
    "    reportDF = reportDF.style.format({'precision': \"{:.4}\",\\\n",
    "                                      'recall': \"{:.4}\",\\\n",
    "                                      'f1-score': \"{:.4}\",\\\n",
    "                                      'support': \"{:,}\"})\n",
    "    return reportDF"
   ]
  },
  {
   "cell_type": "code",
   "execution_count": null,
   "id": "2c690745",
   "metadata": {},
   "outputs": [],
   "source": [
    "#Report for model hige variation\n",
    "reprot1 = ModelEval(y,prediction00,'Non-Default','Default')\n",
    "reprot1"
   ]
  },
  {
   "cell_type": "code",
   "execution_count": null,
   "id": "d40fb6db",
   "metadata": {},
   "outputs": [],
   "source": [
    "#Report for Original X\n",
    "reprot1 = ModelEval(y,prediction01,'Non-Default','Default')\n",
    "reprot1"
   ]
  },
  {
   "cell_type": "code",
   "execution_count": null,
   "id": "07db1e21",
   "metadata": {},
   "outputs": [],
   "source": [
    "reprot2 = ModelEval(y,prediction02,'Non-Default','Default')\n",
    "reprot2"
   ]
  },
  {
   "cell_type": "code",
   "execution_count": null,
   "id": "10cd9090",
   "metadata": {},
   "outputs": [],
   "source": [
    "#reprot3 = ModelEval(y,prediction03,'Non-Default','Default')\n",
    "#reprot3"
   ]
  },
  {
   "cell_type": "markdown",
   "id": "c944dc92",
   "metadata": {},
   "source": [
    "## c5.0 Model"
   ]
  },
  {
   "cell_type": "code",
   "execution_count": null,
   "id": "743e4df5",
   "metadata": {},
   "outputs": [],
   "source": [
    "#Add Libraries\n",
    "from sklearn.tree import DecisionTreeClassifier\n",
    "from sklearn.tree import plot_tree\n",
    "from sklearn.tree import export_graphviz"
   ]
  },
  {
   "cell_type": "code",
   "execution_count": null,
   "id": "14488bef",
   "metadata": {},
   "outputs": [],
   "source": [
    "#Initiate Decision tree\n",
    "amexmodel0=DecisionTreeClassifier(criterion='entropy', max_depth=6, max_leaf_nodes=6)\n",
    "amexmodel=DecisionTreeClassifier(criterion='entropy', max_depth=6, max_leaf_nodes=6)"
   ]
  },
  {
   "cell_type": "code",
   "execution_count": null,
   "id": "902553c0",
   "metadata": {},
   "outputs": [],
   "source": [
    "#Fit tree\n",
    "amexmodel0.fit(X0,y)\n",
    "amexmodel.fit(X1,y)"
   ]
  },
  {
   "cell_type": "code",
   "execution_count": null,
   "id": "8d7ae0d7",
   "metadata": {},
   "outputs": [],
   "source": [
    "#Fit tree low variation\n",
    "amexmodel0.fit(X0,y)"
   ]
  },
  {
   "cell_type": "code",
   "execution_count": null,
   "id": "e3dbdd11",
   "metadata": {},
   "outputs": [],
   "source": [
    "#Predict \n",
    "amexc5predict0 = amexmodel0.predict(X0)\n",
    "amexc5predict = amexmodel.predict(X1)\n",
    "amexc5predict"
   ]
  },
  {
   "cell_type": "code",
   "execution_count": null,
   "id": "360e9007",
   "metadata": {},
   "outputs": [],
   "source": [
    "#Evaluation\n",
    "C50Report = ModelEval(y,amexc5predict,'Non-Default','Default')\n",
    "C50Report"
   ]
  },
  {
   "cell_type": "code",
   "execution_count": null,
   "id": "ff34f852",
   "metadata": {},
   "outputs": [],
   "source": [
    "#Evaluation\n",
    "C50Report0 = ModelEval(y,amexc5predict0,'Non-Default','Default')\n",
    "C50Report0"
   ]
  },
  {
   "cell_type": "code",
   "execution_count": null,
   "id": "3cda3c4e",
   "metadata": {},
   "outputs": [],
   "source": [
    "from sklearn.tree import plot_tree\n",
    "\n",
    "#Figure size\n",
    "plt.figure(figsize=(20,10))\n",
    "\n",
    "#Plot tree\n",
    "plot_tree(amexmodel, \\\n",
    "          filled=True, rounded = True)\n",
    "plt.show()"
   ]
  },
  {
   "cell_type": "markdown",
   "id": "7b65ea5a",
   "metadata": {},
   "source": [
    "## Cart"
   ]
  },
  {
   "cell_type": "code",
   "execution_count": null,
   "id": "d3ccb8ab",
   "metadata": {},
   "outputs": [],
   "source": [
    "#Initiate Decision tree\n",
    "amexmodelcart=DecisionTreeClassifier(criterion='gini', max_depth=6, max_leaf_nodes=6)"
   ]
  },
  {
   "cell_type": "code",
   "execution_count": null,
   "id": "4ccaaa7e",
   "metadata": {},
   "outputs": [],
   "source": [
    "#Fit tree\n",
    "amexmodelcart.fit(X1,y)"
   ]
  },
  {
   "cell_type": "code",
   "execution_count": null,
   "id": "e66b0c1a",
   "metadata": {},
   "outputs": [],
   "source": [
    "#Predict \n",
    "amexcartpredict = amexmodelcart.predict(X1)\n",
    "amexcartpredict"
   ]
  },
  {
   "cell_type": "code",
   "execution_count": null,
   "id": "d87eb1dd",
   "metadata": {},
   "outputs": [],
   "source": [
    "#Evaluation\n",
    "CartReport = ModelEval(y,amexcartpredict,'Non-Default','Default')\n",
    "CartReport"
   ]
  },
  {
   "cell_type": "code",
   "execution_count": null,
   "id": "9ede4980",
   "metadata": {},
   "outputs": [],
   "source": [
    "#Figure size\n",
    "plt.figure(figsize=(20,10))\n",
    "\n",
    "#Plot tree\n",
    "plot_tree(amexmodelcart, \\\n",
    "          filled=True, rounded = True)\n",
    "plt.show()"
   ]
  },
  {
   "cell_type": "markdown",
   "id": "27b727b0",
   "metadata": {},
   "source": [
    "## Random Forest"
   ]
  },
  {
   "cell_type": "code",
   "execution_count": null,
   "id": "104f4803",
   "metadata": {},
   "outputs": [],
   "source": [
    "from sklearn.ensemble import RandomForestClassifier\n",
    "rfy = np.ravel(y)"
   ]
  },
  {
   "cell_type": "code",
   "execution_count": null,
   "id": "1b812af7",
   "metadata": {},
   "outputs": [],
   "source": [
    "#Grow the forest\n",
    "rf01 = RandomForestClassifier(n_estimators = 20, criterion=\"gini\", max_depth=6)"
   ]
  },
  {
   "cell_type": "code",
   "execution_count": null,
   "id": "2fe1d2bb",
   "metadata": {},
   "outputs": [],
   "source": [
    "#Fit forest\n",
    "rf01.fit(X1,rfy)"
   ]
  },
  {
   "cell_type": "code",
   "execution_count": null,
   "id": "21af015d",
   "metadata": {},
   "outputs": [],
   "source": [
    "#Predict \n",
    "rfpredictions = rf01.predict(X1)\n",
    "rfpredictions"
   ]
  },
  {
   "cell_type": "code",
   "execution_count": null,
   "id": "154c1ce5",
   "metadata": {},
   "outputs": [],
   "source": [
    "#Evaluation\n",
    "ForestReport = ModelEval(y,rfpredictions,'Non-Default','Default')\n",
    "ForestReport"
   ]
  },
  {
   "cell_type": "code",
   "execution_count": null,
   "id": "73f521dc",
   "metadata": {},
   "outputs": [],
   "source": [
    "#Figure size\n",
    "plt.figure(figsize=(20,10))\n",
    "\n",
    "#Base estimator, single tree from forest\n",
    "baseTree = rf01.estimators_[0]\n",
    "\n",
    "#Plot tree\n",
    "plot_tree(baseTree, \\\n",
    "          filled=True, rounded = True)\n",
    "plt.show()"
   ]
  },
  {
   "cell_type": "markdown",
   "id": "9e01e546",
   "metadata": {},
   "source": [
    "## XGBoost"
   ]
  },
  {
   "cell_type": "code",
   "execution_count": null,
   "id": "0eb22b58",
   "metadata": {},
   "outputs": [],
   "source": [
    "from xgboost import XGBClassifier # XGBoost algorithm\n",
    "xgb0 = XGBClassifier(max_depth = 4)\n",
    "xgb = XGBClassifier(max_depth = 4)\n",
    "xgb0.fit(X0, y)\n",
    "xgb.fit(X1, y)\n"
   ]
  },
  {
   "cell_type": "code",
   "execution_count": null,
   "id": "831bd940",
   "metadata": {},
   "outputs": [],
   "source": [
    "xgb_yhat0 = xgb0.predict(X0)\n",
    "xgb_yhat = xgb.predict(X1)\n",
    "xgb_yhat"
   ]
  },
  {
   "cell_type": "code",
   "execution_count": null,
   "id": "f6f85cae",
   "metadata": {},
   "outputs": [],
   "source": [
    "X1.shape"
   ]
  },
  {
   "cell_type": "code",
   "execution_count": null,
   "id": "265b8683",
   "metadata": {},
   "outputs": [],
   "source": [
    "#Evaluation low variation\n",
    "XGBoost0Report = ModelEval(y,xgb_yhat0,'Non-Default','Default')\n",
    "XGBoost0Report"
   ]
  },
  {
   "cell_type": "code",
   "execution_count": null,
   "id": "74c06bbe",
   "metadata": {},
   "outputs": [],
   "source": [
    "#Evaluation\n",
    "XGBoostReport = ModelEval(y,xgb_yhat,'Non-Default','Default')\n",
    "XGBoostReport"
   ]
  },
  {
   "cell_type": "code",
   "execution_count": null,
   "id": "22a2dd0b",
   "metadata": {},
   "outputs": [],
   "source": []
  }
 ],
 "metadata": {
  "kernelspec": {
   "display_name": "Python 3 (ipykernel)",
   "language": "python",
   "name": "python3"
  },
  "language_info": {
   "codemirror_mode": {
    "name": "ipython",
    "version": 3
   },
   "file_extension": ".py",
   "mimetype": "text/x-python",
   "name": "python",
   "nbconvert_exporter": "python",
   "pygments_lexer": "ipython3",
   "version": "3.9.12"
  }
 },
 "nbformat": 4,
 "nbformat_minor": 5
}
